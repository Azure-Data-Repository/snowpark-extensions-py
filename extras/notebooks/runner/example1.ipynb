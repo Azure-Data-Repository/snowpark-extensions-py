{
 "cells": [
  {
   "cell_type": "code",
   "execution_count": 4,
   "metadata": {},
   "outputs": [],
   "source": [
    "from snowflake.snowpark import Session\n",
    "import os,json\n",
    "config_file = os.path.expanduser(f\"~{os.sep}credentials.json\")\n",
    "configs = json.load(open(config_file)) if os.path.exists(config_file) else {}\n",
    "session=Session.builder.configs(configs).getOrCreate()"
   ]
  },
  {
   "cell_type": "code",
   "execution_count": 1,
   "metadata": {},
   "outputs": [
    {
     "data": {
      "application/vnd.jupyter.widget-view+json": {
       "model_id": "de8bd11620224ae68f01a25c27200dd5",
       "version_major": 2,
       "version_minor": 0
      },
      "text/plain": [
       "VBox(children=(VBox(children=(Text(value='', description='Name:'), Text(value='', description='Age:'))), Butto…"
      ]
     },
     "execution_count": 1,
     "metadata": {},
     "output_type": "execute_result"
    }
   ],
   "source": [
    "#ARGUMENTS\n",
    "import ipywidgets as widgets\n",
    "name = widgets.Text(description='Name:')\n",
    "age = widgets.Text(description='Age:')\n",
    "form = widgets.VBox([name, age])\n",
    "button = widgets.Button(description='Submit')\n",
    "output = widgets.Output()\n",
    "def on_button_click(b):\n",
    "  with output:\n",
    "    print(f\"Hello {name.value}! You are {age.value} years old.\")\n",
    "button.on_click(on_button_click)\n",
    "widgets.VBox([form, button, output])"
   ]
  },
  {
   "cell_type": "code",
   "execution_count": 8,
   "metadata": {},
   "outputs": [
    {
     "name": "stdout",
     "output_type": "stream",
     "text": [
      "------------------\n",
      "|\"NAME\"  |\"AGE\"  |\n",
      "------------------\n",
      "|Joe     |55     |\n",
      "------------------\n",
      "\n"
     ]
    }
   ],
   "source": [
    "session.sql(f\"select '{name.value}' NAME,  {age.value} AGE\").show()"
   ]
  },
  {
   "cell_type": "code",
   "execution_count": 2,
   "metadata": {},
   "outputs": [
    {
     "name": "stdout",
     "output_type": "stream",
     "text": [
      "----------------------------------------------------------------\n",
      "|\"PACKAGE_NAME\"  |\"VERSION\"   |\"LANGUAGE\"  |\"RUNTIME_VERSION\"  |\n",
      "----------------------------------------------------------------\n",
      "|abseil-cpp      |20200923.3  |python      |NULL               |\n",
      "|abseil-cpp      |20210324.2  |python      |NULL               |\n",
      "|abseil-cpp      |20211102.0  |python      |NULL               |\n",
      "|absl-py         |0.10.0      |python      |3.8                |\n",
      "|absl-py         |0.10.0      |python      |3.9                |\n",
      "|absl-py         |0.12.0      |python      |3.10               |\n",
      "|absl-py         |1.3.0       |python      |3.10               |\n",
      "|absl-py         |1.3.0       |python      |3.8                |\n",
      "|absl-py         |1.3.0       |python      |3.9                |\n",
      "|absl-py         |1.4.0       |python      |3.10               |\n",
      "----------------------------------------------------------------\n",
      "\n"
     ]
    }
   ],
   "source": [
    "session.sql(\"select * from information_schema.packages\").show()"
   ]
  }
 ],
 "metadata": {
  "kernelspec": {
   "display_name": "Python 3",
   "language": "python",
   "name": "python3"
  },
  "language_info": {
   "codemirror_mode": {
    "name": "ipython",
    "version": 3
   },
   "file_extension": ".py",
   "mimetype": "text/x-python",
   "name": "python",
   "nbconvert_exporter": "python",
   "pygments_lexer": "ipython3",
   "version": "3.9.6"
  },
  "orig_nbformat": 4
 },
 "nbformat": 4,
 "nbformat_minor": 2
}
